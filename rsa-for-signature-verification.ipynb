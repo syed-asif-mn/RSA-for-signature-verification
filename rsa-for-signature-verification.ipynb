{
 "cells": [
  {
   "cell_type": "markdown",
   "id": "2a95a387",
   "metadata": {
    "id": "377751b7",
    "papermill": {
     "duration": 0.009371,
     "end_time": "2023-04-15T09:39:20.624751",
     "exception": false,
     "start_time": "2023-04-15T09:39:20.615380",
     "status": "completed"
    },
    "tags": []
   },
   "source": [
    "# <font color=teal> RSA Algorithm for Key encryption and Decryption <font>"
   ]
  },
  {
   "cell_type": "code",
   "execution_count": 1,
   "id": "6b6ec64e",
   "metadata": {
    "execution": {
     "iopub.execute_input": "2023-04-15T09:39:20.643281Z",
     "iopub.status.busy": "2023-04-15T09:39:20.642705Z",
     "iopub.status.idle": "2023-04-15T09:39:33.634125Z",
     "shell.execute_reply": "2023-04-15T09:39:33.632627Z"
    },
    "id": "f026818e",
    "outputId": "dc704e94-d0e0-43d8-c7cd-03c3156ff1e7",
    "papermill": {
     "duration": 13.004058,
     "end_time": "2023-04-15T09:39:33.637046",
     "exception": false,
     "start_time": "2023-04-15T09:39:20.632988",
     "status": "completed"
    },
    "tags": []
   },
   "outputs": [
    {
     "name": "stdout",
     "output_type": "stream",
     "text": [
      "Requirement already satisfied: pycryptodome in /opt/conda/lib/python3.7/site-packages (3.17)\r\n",
      "\u001b[33mWARNING: Running pip as the 'root' user can result in broken permissions and conflicting behaviour with the system package manager. It is recommended to use a virtual environment instead: https://pip.pypa.io/warnings/venv\u001b[0m\u001b[33m\r\n",
      "\u001b[0mNote: you may need to restart the kernel to use updated packages.\n"
     ]
    }
   ],
   "source": [
    "%pip install pycryptodome"
   ]
  },
  {
   "cell_type": "code",
   "execution_count": 2,
   "id": "01d48650",
   "metadata": {
    "execution": {
     "iopub.execute_input": "2023-04-15T09:39:33.656182Z",
     "iopub.status.busy": "2023-04-15T09:39:33.655710Z",
     "iopub.status.idle": "2023-04-15T09:39:33.925151Z",
     "shell.execute_reply": "2023-04-15T09:39:33.923407Z"
    },
    "id": "e69e7ff5",
    "papermill": {
     "duration": 0.283192,
     "end_time": "2023-04-15T09:39:33.928768",
     "exception": false,
     "start_time": "2023-04-15T09:39:33.645576",
     "status": "completed"
    },
    "tags": []
   },
   "outputs": [],
   "source": [
    "from Crypto.PublicKey import RSA\n",
    "from Crypto import Random\n",
    "import ast\n",
    "from Crypto.Cipher import PKCS1_OAEP"
   ]
  },
  {
   "cell_type": "markdown",
   "id": "89be68a1",
   "metadata": {
    "id": "57416507",
    "papermill": {
     "duration": 0.008067,
     "end_time": "2023-04-15T09:39:33.945402",
     "exception": false,
     "start_time": "2023-04-15T09:39:33.937335",
     "status": "completed"
    },
    "tags": []
   },
   "source": [
    "## Key Generation"
   ]
  },
  {
   "cell_type": "code",
   "execution_count": 3,
   "id": "194e2cad",
   "metadata": {
    "execution": {
     "iopub.execute_input": "2023-04-15T09:39:33.965673Z",
     "iopub.status.busy": "2023-04-15T09:39:33.964295Z",
     "iopub.status.idle": "2023-04-15T09:39:34.141520Z",
     "shell.execute_reply": "2023-04-15T09:39:34.139960Z"
    },
    "id": "2b1f745a",
    "papermill": {
     "duration": 0.190832,
     "end_time": "2023-04-15T09:39:34.144723",
     "exception": false,
     "start_time": "2023-04-15T09:39:33.953891",
     "status": "completed"
    },
    "tags": []
   },
   "outputs": [],
   "source": [
    "#generate pub and priv key\n",
    "random_generator = Random.new().read\n",
    "key = RSA.generate(1024, random_generator) \n",
    "private_key = key.export_key()\n",
    "public_key = key.publickey().exportKey()"
   ]
  },
  {
   "cell_type": "markdown",
   "id": "833b6c86",
   "metadata": {
    "id": "a5fc5160",
    "papermill": {
     "duration": 0.007821,
     "end_time": "2023-04-15T09:39:34.161217",
     "exception": false,
     "start_time": "2023-04-15T09:39:34.153396",
     "status": "completed"
    },
    "tags": []
   },
   "source": [
    "## Encrypt a message using the public key generated above"
   ]
  },
  {
   "cell_type": "code",
   "execution_count": 4,
   "id": "c0348a12",
   "metadata": {
    "execution": {
     "iopub.execute_input": "2023-04-15T09:39:34.180243Z",
     "iopub.status.busy": "2023-04-15T09:39:34.179460Z",
     "iopub.status.idle": "2023-04-15T09:39:34.194276Z",
     "shell.execute_reply": "2023-04-15T09:39:34.193169Z"
    },
    "id": "40a46c33",
    "outputId": "07c1d015-0031-4d0b-f001-a24b1bbbc021",
    "papermill": {
     "duration": 0.027824,
     "end_time": "2023-04-15T09:39:34.197280",
     "exception": false,
     "start_time": "2023-04-15T09:39:34.169456",
     "status": "completed"
    },
    "tags": []
   },
   "outputs": [
    {
     "name": "stdout",
     "output_type": "stream",
     "text": [
      "your encrypted text is : b'\\x9b\\xae\\x8cN\\xf1k\\x8f \\xaf\\xe3\\x1b\\xea\\xf7\\xe8rH\\x18\\xca\\xc1-p-\\x9d\\xe8FG\\rppo\\xf445\\xf5b\\x87\\xe0br5V\\xb5]A\\x84H\\x86TU\\x05s\\xfc=M-\\x9b\\x02\\x8c\\x12!Tp\\x900d\\xcf\\xe8\\x9d\\xc9$p\\xfe\\xf8\\x01M\\xb5\"\\x19\\xac\\xec\\n\\xb1\\x01O\\xa9\\x95\\\\\\xf6\\xb8\\xe7\\xf9]\\x17\\xd5\\x97bX\\xedz|\\xbf\\x10\\xd7\\xa9\\x98\\r\\xfc\\x99`\\xb6?\\xcam\\'^g\\x9c\\xc0=\\xae\\x8c\\xacS\\xa3\\'\\xb96R'\n"
     ]
    }
   ],
   "source": [
    "message = 'Text for RSA encryption and decryption'\n",
    "message = str.encode(message)\n",
    "\n",
    "rsa_public_key = RSA.importKey(public_key)\n",
    "rsa_public_key = PKCS1_OAEP.new(rsa_public_key)\n",
    "\n",
    "encrypted = rsa_public_key.encrypt(message)\n",
    "\n",
    "print('your encrypted text is : {}'.format(encrypted))"
   ]
  },
  {
   "cell_type": "markdown",
   "id": "05189730",
   "metadata": {
    "id": "00bf172f",
    "papermill": {
     "duration": 0.00807,
     "end_time": "2023-04-15T09:39:34.215082",
     "exception": false,
     "start_time": "2023-04-15T09:39:34.207012",
     "status": "completed"
    },
    "tags": []
   },
   "source": [
    "## Decryption the message using the private key generated above"
   ]
  },
  {
   "cell_type": "code",
   "execution_count": 5,
   "id": "117db441",
   "metadata": {
    "execution": {
     "iopub.execute_input": "2023-04-15T09:39:34.234478Z",
     "iopub.status.busy": "2023-04-15T09:39:34.234021Z",
     "iopub.status.idle": "2023-04-15T09:39:34.277029Z",
     "shell.execute_reply": "2023-04-15T09:39:34.274920Z"
    },
    "id": "07d82b17",
    "outputId": "7f2aa8dd-4fa7-4605-ae6f-cbd4fe26304d",
    "papermill": {
     "duration": 0.056356,
     "end_time": "2023-04-15T09:39:34.279908",
     "exception": false,
     "start_time": "2023-04-15T09:39:34.223552",
     "status": "completed"
    },
    "tags": []
   },
   "outputs": [
    {
     "name": "stdout",
     "output_type": "stream",
     "text": [
      "decrypted message is:  b'Text for RSA encryption and decryption'\n"
     ]
    }
   ],
   "source": [
    "#decrypted code below\n",
    "\n",
    "rsa_private_key = RSA.importKey(private_key)\n",
    "rsa_private_key = PKCS1_OAEP.new(rsa_private_key)\n",
    "decrypted = rsa_private_key.decrypt(ast.literal_eval(str(encrypted)))\n",
    "\n",
    "print('decrypted message is: ', decrypted)"
   ]
  },
  {
   "cell_type": "markdown",
   "id": "4cc1dade",
   "metadata": {
    "id": "e9237dff",
    "papermill": {
     "duration": 0.008528,
     "end_time": "2023-04-15T09:39:34.297883",
     "exception": false,
     "start_time": "2023-04-15T09:39:34.289355",
     "status": "completed"
    },
    "tags": []
   },
   "source": [
    "#  <font color=teal> RSA For Signature Verification</font>"
   ]
  },
  {
   "cell_type": "markdown",
   "id": "560cb3cd",
   "metadata": {
    "id": "398bf8a3",
    "papermill": {
     "duration": 0.008075,
     "end_time": "2023-04-15T09:39:34.314646",
     "exception": false,
     "start_time": "2023-04-15T09:39:34.306571",
     "status": "completed"
    },
    "tags": []
   },
   "source": [
    "### Introduction:\n",
    "In this assignment, we will aim to develop a signature verification protocol using the RSA algorithm.\n",
    "The RSA public-key cryptosystem provides a digital signature scheme (sign + verify), based on the math of the modular exponentiations and discrete logarithms and the computational difficulty of the RSA problem.\n",
    "\n",
    "Steps for RSA sign/verify algorithm:\n",
    "\n",
    "- Key Generation:- The RSA key-pair consists of: public key {n, e} & private key {n, d}. The numbers n and d are typically big integers, while e is small. By definition, the RSA key-pairs has the following property: \n",
    "(m^e)^d ≡(m^d)^e  ≡m(modn),  for all m in the range [0...n)\n",
    "\n",
    "- RSA Sign:- sign a message ‘msg’ with the private key components {n,d}\n",
    "    - Calculate the message hash: h = hash(msg)\n",
    "    - Encrypt h to calculate the signature: s = h^d (mod n)\n",
    "\n",
    "- RSA Verify Signature:- Verify a signature s for the message ‘msg’ with the public key {n, e}\n",
    "    - Calculate the message hash: h = hash(msg)\n",
    "    - Decrypt the signature: h′  =s^e (mod n)\n",
    "    - Compare h with h' to find whether the signature is valid or not\n"
   ]
  },
  {
   "cell_type": "markdown",
   "id": "a9a8de0c",
   "metadata": {
    "id": "fda92d75",
    "papermill": {
     "duration": 0.008137,
     "end_time": "2023-04-15T09:39:34.331779",
     "exception": false,
     "start_time": "2023-04-15T09:39:34.323642",
     "status": "completed"
    },
    "tags": []
   },
   "source": [
    "## <font color=blue> Generating private key and the public key for signature verification </font>"
   ]
  },
  {
   "cell_type": "code",
   "execution_count": 6,
   "id": "fa13aab0",
   "metadata": {
    "execution": {
     "iopub.execute_input": "2023-04-15T09:39:34.351019Z",
     "iopub.status.busy": "2023-04-15T09:39:34.350574Z",
     "iopub.status.idle": "2023-04-15T09:39:34.356574Z",
     "shell.execute_reply": "2023-04-15T09:39:34.354970Z"
    },
    "id": "9df694b5",
    "papermill": {
     "duration": 0.018694,
     "end_time": "2023-04-15T09:39:34.358938",
     "exception": false,
     "start_time": "2023-04-15T09:39:34.340244",
     "status": "completed"
    },
    "tags": []
   },
   "outputs": [],
   "source": [
    "from Crypto.PublicKey import RSA"
   ]
  },
  {
   "cell_type": "code",
   "execution_count": 7,
   "id": "c058604e",
   "metadata": {
    "execution": {
     "iopub.execute_input": "2023-04-15T09:39:34.377814Z",
     "iopub.status.busy": "2023-04-15T09:39:34.377384Z",
     "iopub.status.idle": "2023-04-15T09:39:34.476124Z",
     "shell.execute_reply": "2023-04-15T09:39:34.474623Z"
    },
    "id": "164e0d5d",
    "papermill": {
     "duration": 0.11193,
     "end_time": "2023-04-15T09:39:34.479356",
     "exception": false,
     "start_time": "2023-04-15T09:39:34.367426",
     "status": "completed"
    },
    "tags": []
   },
   "outputs": [],
   "source": [
    "## generating the 2048 byte key.\n",
    "key = RSA.generate(2048)"
   ]
  },
  {
   "cell_type": "code",
   "execution_count": 8,
   "id": "335781cc",
   "metadata": {
    "execution": {
     "iopub.execute_input": "2023-04-15T09:39:34.499061Z",
     "iopub.status.busy": "2023-04-15T09:39:34.498648Z",
     "iopub.status.idle": "2023-04-15T09:39:34.518766Z",
     "shell.execute_reply": "2023-04-15T09:39:34.517400Z"
    },
    "id": "rnyQ-mgMjoQP",
    "papermill": {
     "duration": 0.033427,
     "end_time": "2023-04-15T09:39:34.521853",
     "exception": false,
     "start_time": "2023-04-15T09:39:34.488426",
     "status": "completed"
    },
    "tags": []
   },
   "outputs": [],
   "source": [
    "## write the private and public key to a file\n",
    "with open(\"private_key.pem\", \"wb\") as f:\n",
    "    f.write(key.export_key())\n",
    "\n",
    "# Write the public key to a file\n",
    "with open(\"public_key.pem\", \"wb\") as f:\n",
    "    f.write(key.publickey().export_key())"
   ]
  },
  {
   "cell_type": "markdown",
   "id": "b0cf8cd0",
   "metadata": {
    "id": "fb230983",
    "papermill": {
     "duration": 0.008027,
     "end_time": "2023-04-15T09:39:34.538400",
     "exception": false,
     "start_time": "2023-04-15T09:39:34.530373",
     "status": "completed"
    },
    "tags": []
   },
   "source": [
    "## <font color=blue>Signing the message using the above private key </font>"
   ]
  },
  {
   "cell_type": "code",
   "execution_count": 9,
   "id": "643d91dc",
   "metadata": {
    "execution": {
     "iopub.execute_input": "2023-04-15T09:39:34.557632Z",
     "iopub.status.busy": "2023-04-15T09:39:34.557106Z",
     "iopub.status.idle": "2023-04-15T09:39:34.564389Z",
     "shell.execute_reply": "2023-04-15T09:39:34.563093Z"
    },
    "id": "77f500ae",
    "papermill": {
     "duration": 0.019969,
     "end_time": "2023-04-15T09:39:34.566899",
     "exception": false,
     "start_time": "2023-04-15T09:39:34.546930",
     "status": "completed"
    },
    "tags": []
   },
   "outputs": [],
   "source": [
    "from Crypto.Signature import pkcs1_15\n",
    "from Crypto.Hash import SHA256"
   ]
  },
  {
   "cell_type": "code",
   "execution_count": 10,
   "id": "3611bb2e",
   "metadata": {
    "execution": {
     "iopub.execute_input": "2023-04-15T09:39:34.587142Z",
     "iopub.status.busy": "2023-04-15T09:39:34.585477Z",
     "iopub.status.idle": "2023-04-15T09:39:34.591853Z",
     "shell.execute_reply": "2023-04-15T09:39:34.590620Z"
    },
    "id": "a6066c84",
    "papermill": {
     "duration": 0.019121,
     "end_time": "2023-04-15T09:39:34.594429",
     "exception": false,
     "start_time": "2023-04-15T09:39:34.575308",
     "status": "completed"
    },
    "tags": []
   },
   "outputs": [],
   "source": [
    "## Define the msg\n",
    "msg = b'Hey this is me, lets meet at cafe at 6pm'"
   ]
  },
  {
   "cell_type": "code",
   "execution_count": 11,
   "id": "efb89888",
   "metadata": {
    "execution": {
     "iopub.execute_input": "2023-04-15T09:39:34.613870Z",
     "iopub.status.busy": "2023-04-15T09:39:34.613367Z",
     "iopub.status.idle": "2023-04-15T09:39:34.682950Z",
     "shell.execute_reply": "2023-04-15T09:39:34.681230Z"
    },
    "id": "ucyX-GK6kfLu",
    "papermill": {
     "duration": 0.083134,
     "end_time": "2023-04-15T09:39:34.685837",
     "exception": false,
     "start_time": "2023-04-15T09:39:34.602703",
     "status": "completed"
    },
    "tags": []
   },
   "outputs": [],
   "source": [
    "## Import the private key\n",
    "with open(\"private_key.pem\", \"rb\") as f:\n",
    "    private_key = RSA.import_key(f.read())"
   ]
  },
  {
   "cell_type": "code",
   "execution_count": 12,
   "id": "2742ddcc",
   "metadata": {
    "execution": {
     "iopub.execute_input": "2023-04-15T09:39:34.705306Z",
     "iopub.status.busy": "2023-04-15T09:39:34.704825Z",
     "iopub.status.idle": "2023-04-15T09:39:34.710847Z",
     "shell.execute_reply": "2023-04-15T09:39:34.709546Z"
    },
    "id": "q6wn04Mxjsoy",
    "papermill": {
     "duration": 0.019366,
     "end_time": "2023-04-15T09:39:34.713685",
     "exception": false,
     "start_time": "2023-04-15T09:39:34.694319",
     "status": "completed"
    },
    "tags": []
   },
   "outputs": [],
   "source": [
    "## Create a hash of the message\n",
    "hash = SHA256.new(msg)"
   ]
  },
  {
   "cell_type": "code",
   "execution_count": 13,
   "id": "97ce42a1",
   "metadata": {
    "execution": {
     "iopub.execute_input": "2023-04-15T09:39:34.734058Z",
     "iopub.status.busy": "2023-04-15T09:39:34.732719Z",
     "iopub.status.idle": "2023-04-15T09:39:34.745265Z",
     "shell.execute_reply": "2023-04-15T09:39:34.744034Z"
    },
    "id": "PzFBwv60j2Cs",
    "papermill": {
     "duration": 0.025074,
     "end_time": "2023-04-15T09:39:34.747754",
     "exception": false,
     "start_time": "2023-04-15T09:39:34.722680",
     "status": "completed"
    },
    "tags": []
   },
   "outputs": [
    {
     "name": "stdout",
     "output_type": "stream",
     "text": [
      "b'\\xb5\\x1c@#\\xad\\x0e?\\x17\\xe6\\xcdT?\\xa2\\x83-9\\xda\\'\\x99B\\xe4QA\\xcf\\xf7$$\\xf8a\\xf6\\x9f\\x02^t\\xb4-{\\xef\\xc7GUn\\xc9C\\x98\\xcb\\x1aA_X\\xdcDq\\x86BC\\x9b\\xa3\\x0f\\xb3]\\x85>C\\x11\\x15\\x12*\\xb1\\x8e9p\\xa4W\\xb1M\\xd8\\xf0\\xceR\\xea\\x8d\\x0c\\xbf\\xad\\xdd$u\\x88n\\x04\\x9c Z\\x7f\\xdeh\\x93z\\\\$K\\'\\x90\\x15\\r.\\xe3\\xdd:\\xe7+!\\xf5\\xf5\\n\\x07\\x03:Q!L\\xf5\\x01K;\\xab\\xbc\\xaa\\x05v\\x83@\\xb1\\xd3\\xee\"M\\x1b\\xe3\\xd7\\xdd\\x06\\x15\\x01~\\xfc\\xceP.f\\x15\\xa9\\xa2\\xb2S}\\xafX\\xa5O\\x84\\xdf\\xec\\xfe\\xa4\\x85@\\xc9\\x07:\\x991d\\xe2\\xb3\\x9b\\x9fG_\\x1cX\\x10vg\\x08z\\xde[\\x90\\xe9z\\xe5\\xaa\\xb6\\xdc\\x99\\xefc\\xf84\\t\\xbct\\xdd\\xe4\\x82\\x8d[:{S\\x8b\\xe4u\\x93\\xb5\\xa9\\xa0|\\xf9\\x82\\xd0\\xf4\\xe6\\x87C\\x88\\x03\\xecw\\xe6\\xc9`^\\xd0\\x06\\xe8\\r\\xbd]a\\xd9\\xdab\\x1aG\\xa5\\xd8m\\x82\\xe2/\\xeb\\x9d\\xea'\n"
     ]
    }
   ],
   "source": [
    "## sign the message\n",
    "signature = pkcs1_15.new(private_key).sign(hash)\n",
    "\n",
    "# Print the signature\n",
    "print(signature)"
   ]
  },
  {
   "cell_type": "code",
   "execution_count": 14,
   "id": "a163124f",
   "metadata": {
    "execution": {
     "iopub.execute_input": "2023-04-15T09:39:34.766954Z",
     "iopub.status.busy": "2023-04-15T09:39:34.766451Z",
     "iopub.status.idle": "2023-04-15T09:39:34.773063Z",
     "shell.execute_reply": "2023-04-15T09:39:34.771813Z"
    },
    "id": "dd39ab8b",
    "papermill": {
     "duration": 0.019644,
     "end_time": "2023-04-15T09:39:34.775866",
     "exception": false,
     "start_time": "2023-04-15T09:39:34.756222",
     "status": "completed"
    },
    "tags": []
   },
   "outputs": [],
   "source": [
    "## save the signature and message in a file (Optional)\n",
    "with open(\"message.txt\", \"wb\") as f:\n",
    "    f.write(msg)\n",
    "with open(\"signature.bin\", \"wb\") as f:\n",
    "    f.write(signature)"
   ]
  },
  {
   "cell_type": "markdown",
   "id": "af594e3b",
   "metadata": {
    "id": "d8a7cfb0",
    "papermill": {
     "duration": 0.008221,
     "end_time": "2023-04-15T09:39:34.792850",
     "exception": false,
     "start_time": "2023-04-15T09:39:34.784629",
     "status": "completed"
    },
    "tags": []
   },
   "source": [
    "##### Signature is created using the private key by the sender, signature and the message is sent to the receiver."
   ]
  },
  {
   "cell_type": "markdown",
   "id": "4b20851d",
   "metadata": {
    "id": "18618a88",
    "papermill": {
     "duration": 0.009003,
     "end_time": "2023-04-15T09:39:34.811031",
     "exception": false,
     "start_time": "2023-04-15T09:39:34.802028",
     "status": "completed"
    },
    "tags": []
   },
   "source": [
    "## <font color=blue>Verifying the above signature ‘sign’ for the message ‘msg’ using the above public key </font>"
   ]
  },
  {
   "cell_type": "markdown",
   "id": "00976fcc",
   "metadata": {
    "id": "f1d6956a",
    "papermill": {
     "duration": 0.008552,
     "end_time": "2023-04-15T09:39:34.828578",
     "exception": false,
     "start_time": "2023-04-15T09:39:34.820026",
     "status": "completed"
    },
    "tags": []
   },
   "source": [
    "#### Now the receiver has received the signature and the message from the sender, lets verify the signature."
   ]
  },
  {
   "cell_type": "code",
   "execution_count": 15,
   "id": "413f1b0f",
   "metadata": {
    "execution": {
     "iopub.execute_input": "2023-04-15T09:39:34.847937Z",
     "iopub.status.busy": "2023-04-15T09:39:34.847469Z",
     "iopub.status.idle": "2023-04-15T09:39:34.856108Z",
     "shell.execute_reply": "2023-04-15T09:39:34.854593Z"
    },
    "id": "a8704f7c",
    "papermill": {
     "duration": 0.021092,
     "end_time": "2023-04-15T09:39:34.858481",
     "exception": false,
     "start_time": "2023-04-15T09:39:34.837389",
     "status": "completed"
    },
    "tags": []
   },
   "outputs": [
    {
     "name": "stdout",
     "output_type": "stream",
     "text": [
      "Public RSA key at 0x7F947DE97C50\n"
     ]
    }
   ],
   "source": [
    "## read the public key\n",
    "with open(\"public_key.pem\", \"rb\") as f:\n",
    "    public_key = RSA.import_key(f.read())\n",
    "\n",
    "# Print the public key\n",
    "print(public_key)"
   ]
  },
  {
   "cell_type": "code",
   "execution_count": 16,
   "id": "27aef5a2",
   "metadata": {
    "execution": {
     "iopub.execute_input": "2023-04-15T09:39:34.878236Z",
     "iopub.status.busy": "2023-04-15T09:39:34.877468Z",
     "iopub.status.idle": "2023-04-15T09:39:34.883779Z",
     "shell.execute_reply": "2023-04-15T09:39:34.882364Z"
    },
    "id": "3f7417e5",
    "papermill": {
     "duration": 0.019274,
     "end_time": "2023-04-15T09:39:34.886503",
     "exception": false,
     "start_time": "2023-04-15T09:39:34.867229",
     "status": "completed"
    },
    "tags": []
   },
   "outputs": [],
   "source": [
    "## read/load the received message and the received signature.\n",
    "with open(\"message.txt\", \"rb\") as f:\n",
    "    message = f.read()\n",
    "with open(\"signature.bin\", \"rb\") as f:\n",
    "    signature = f.read()"
   ]
  },
  {
   "cell_type": "code",
   "execution_count": 17,
   "id": "a41e866c",
   "metadata": {
    "execution": {
     "iopub.execute_input": "2023-04-15T09:39:34.907744Z",
     "iopub.status.busy": "2023-04-15T09:39:34.907287Z",
     "iopub.status.idle": "2023-04-15T09:39:34.912634Z",
     "shell.execute_reply": "2023-04-15T09:39:34.911207Z"
    },
    "id": "a5218e32",
    "papermill": {
     "duration": 0.01918,
     "end_time": "2023-04-15T09:39:34.915251",
     "exception": false,
     "start_time": "2023-04-15T09:39:34.896071",
     "status": "completed"
    },
    "tags": []
   },
   "outputs": [],
   "source": [
    "## Create a hash of the message(received message)\n",
    "hash1 = SHA256.new(message)"
   ]
  },
  {
   "cell_type": "markdown",
   "id": "aca0d5e5",
   "metadata": {
    "id": "7464f774",
    "papermill": {
     "duration": 0.00823,
     "end_time": "2023-04-15T09:39:34.932326",
     "exception": false,
     "start_time": "2023-04-15T09:39:34.924096",
     "status": "completed"
    },
    "tags": []
   },
   "source": [
    "#### Comparing hash1 and the hash. If 'hash1' (from received message) is same as the 'hash' (from sent message), we will get to know that sign is original."
   ]
  },
  {
   "cell_type": "code",
   "execution_count": 18,
   "id": "4f85b364",
   "metadata": {
    "execution": {
     "iopub.execute_input": "2023-04-15T09:39:34.952059Z",
     "iopub.status.busy": "2023-04-15T09:39:34.951622Z",
     "iopub.status.idle": "2023-04-15T09:39:34.960801Z",
     "shell.execute_reply": "2023-04-15T09:39:34.959459Z"
    },
    "id": "-GxL8kTLkzx7",
    "papermill": {
     "duration": 0.022398,
     "end_time": "2023-04-15T09:39:34.963314",
     "exception": false,
     "start_time": "2023-04-15T09:39:34.940916",
     "status": "completed"
    },
    "tags": []
   },
   "outputs": [
    {
     "name": "stdout",
     "output_type": "stream",
     "text": [
      "The signature is valid. Messages are Unchanged\n"
     ]
    }
   ],
   "source": [
    "try:\n",
    "    pkcs1_15.new(key).verify(hash1, signature)\n",
    "    print('The signature is valid. Messages are Unchanged')\n",
    "except (ValueError, TypeError):\n",
    "    print('Alert!! The signature is not valid. Messages are changed')"
   ]
  },
  {
   "cell_type": "markdown",
   "id": "d4b441af",
   "metadata": {
    "id": "cebdfefb",
    "papermill": {
     "duration": 0.008684,
     "end_time": "2023-04-15T09:39:34.980754",
     "exception": false,
     "start_time": "2023-04-15T09:39:34.972070",
     "status": "completed"
    },
    "tags": []
   },
   "source": [
    "### <font color=royalblue>Making some changes to the message or signature and then verify the signature</font>\n"
   ]
  },
  {
   "cell_type": "code",
   "execution_count": 19,
   "id": "aa389eb2",
   "metadata": {
    "execution": {
     "iopub.execute_input": "2023-04-15T09:39:35.001231Z",
     "iopub.status.busy": "2023-04-15T09:39:35.000416Z",
     "iopub.status.idle": "2023-04-15T09:39:35.009090Z",
     "shell.execute_reply": "2023-04-15T09:39:35.007553Z"
    },
    "id": "sDQvOeWNk4k0",
    "papermill": {
     "duration": 0.021603,
     "end_time": "2023-04-15T09:39:35.011592",
     "exception": false,
     "start_time": "2023-04-15T09:39:34.989989",
     "status": "completed"
    },
    "tags": []
   },
   "outputs": [
    {
     "name": "stdout",
     "output_type": "stream",
     "text": [
      "Public RSA key at 0x7F947DE97CD0\n"
     ]
    }
   ],
   "source": [
    "## read the public key\n",
    "with open(\"public_key.pem\", \"rb\") as f:\n",
    "    public_key = RSA.import_key(f.read())\n",
    "\n",
    "# Print the public key\n",
    "print(public_key)"
   ]
  },
  {
   "cell_type": "code",
   "execution_count": 20,
   "id": "3240dab9",
   "metadata": {
    "execution": {
     "iopub.execute_input": "2023-04-15T09:39:35.032579Z",
     "iopub.status.busy": "2023-04-15T09:39:35.031436Z",
     "iopub.status.idle": "2023-04-15T09:39:35.037734Z",
     "shell.execute_reply": "2023-04-15T09:39:35.036795Z"
    },
    "id": "DKWbswf2k6AS",
    "papermill": {
     "duration": 0.019633,
     "end_time": "2023-04-15T09:39:35.040365",
     "exception": false,
     "start_time": "2023-04-15T09:39:35.020732",
     "status": "completed"
    },
    "tags": []
   },
   "outputs": [],
   "source": [
    "## change the message\n",
    "msg = b'Hey this is me, lets meet at cafe at 7pm'\n",
    "\n",
    "with open(\"changed_message.txt\", \"wb\") as f:\n",
    "    f.write(msg)\n",
    "    \n",
    "## read/load the received message and the received signature.\n",
    "with open(\"changed_message.txt\", \"rb\") as f:\n",
    "    message = f.read()\n",
    "with open(\"signature.bin\", \"rb\") as f:\n",
    "    signature = f.read()\n"
   ]
  },
  {
   "cell_type": "code",
   "execution_count": 21,
   "id": "c3646325",
   "metadata": {
    "execution": {
     "iopub.execute_input": "2023-04-15T09:39:35.061053Z",
     "iopub.status.busy": "2023-04-15T09:39:35.059999Z",
     "iopub.status.idle": "2023-04-15T09:39:35.065494Z",
     "shell.execute_reply": "2023-04-15T09:39:35.064596Z"
    },
    "id": "pW_KzcEtk8Xp",
    "papermill": {
     "duration": 0.018463,
     "end_time": "2023-04-15T09:39:35.067950",
     "exception": false,
     "start_time": "2023-04-15T09:39:35.049487",
     "status": "completed"
    },
    "tags": []
   },
   "outputs": [],
   "source": [
    "## Create a hash of the message(received message)\n",
    "hash1 = SHA256.new(message)"
   ]
  },
  {
   "cell_type": "code",
   "execution_count": 22,
   "id": "c440ffbe",
   "metadata": {
    "execution": {
     "iopub.execute_input": "2023-04-15T09:39:35.088806Z",
     "iopub.status.busy": "2023-04-15T09:39:35.088355Z",
     "iopub.status.idle": "2023-04-15T09:39:35.096886Z",
     "shell.execute_reply": "2023-04-15T09:39:35.095289Z"
    },
    "id": "0tMi_5z-lGhs",
    "papermill": {
     "duration": 0.022327,
     "end_time": "2023-04-15T09:39:35.099810",
     "exception": false,
     "start_time": "2023-04-15T09:39:35.077483",
     "status": "completed"
    },
    "tags": []
   },
   "outputs": [
    {
     "name": "stdout",
     "output_type": "stream",
     "text": [
      "Alert!! The signature is not valid. Messages are changed\n"
     ]
    }
   ],
   "source": [
    "## Compare and verify\n",
    "try:\n",
    "    pkcs1_15.new(key).verify(hash1, signature)\n",
    "    print('The signature is valid. Messages are Unchanged')\n",
    "except (ValueError, TypeError):\n",
    "    print('Alert!! The signature is not valid. Messages are changed')"
   ]
  }
 ],
 "metadata": {
  "kernelspec": {
   "display_name": "Python 3",
   "language": "python",
   "name": "python3"
  },
  "language_info": {
   "codemirror_mode": {
    "name": "ipython",
    "version": 3
   },
   "file_extension": ".py",
   "mimetype": "text/x-python",
   "name": "python",
   "nbconvert_exporter": "python",
   "pygments_lexer": "ipython3",
   "version": "3.7.12"
  },
  "papermill": {
   "default_parameters": {},
   "duration": 26.51093,
   "end_time": "2023-04-15T09:39:35.934740",
   "environment_variables": {},
   "exception": null,
   "input_path": "__notebook__.ipynb",
   "output_path": "__notebook__.ipynb",
   "parameters": {},
   "start_time": "2023-04-15T09:39:09.423810",
   "version": "2.4.0"
  }
 },
 "nbformat": 4,
 "nbformat_minor": 5
}
